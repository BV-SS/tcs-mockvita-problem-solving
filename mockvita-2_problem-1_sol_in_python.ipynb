{
 "cells": [
  {
   "cell_type": "code",
   "execution_count": null,
   "metadata": {},
   "outputs": [],
   "source": [
    "#mockvita -2 problem 1\n",
    "b,g=input().split()\n",
    "\n",
    "b=list(b)\n",
    "g=list(g)\n",
    "\n",
    "while len(b):\n",
    "    if b[0] in g:\n",
    "        p=b[0]\n",
    "        b.remove(p)\n",
    "        g.remove(p)\n",
    "        #view the status of arrays \n",
    "        print(b,g)\n",
    "    else:\n",
    "        break\n",
    "pair_left=len(b)\n",
    "print(\"pair left un mattched ---\", pair_left)\n"
   ]
  }
 ],
 "metadata": {
  "kernelspec": {
   "display_name": "Python 3",
   "language": "python",
   "name": "python3"
  },
  "language_info": {
   "codemirror_mode": {
    "name": "ipython",
    "version": 3
   },
   "file_extension": ".py",
   "mimetype": "text/x-python",
   "name": "python",
   "nbconvert_exporter": "python",
   "pygments_lexer": "ipython3",
   "version": "3.7.3"
  }
 },
 "nbformat": 4,
 "nbformat_minor": 2
}
