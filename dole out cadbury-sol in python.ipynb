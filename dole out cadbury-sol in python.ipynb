{
 "cells": [
  {
   "cell_type": "code",
   "execution_count": null,
   "metadata": {},
   "outputs": [],
   "source": [
    "#mockvita 2 2020 \n",
    "#problem -3 dole out cadbury solution\n",
    "\n",
    "\n",
    "p=int(input())\n",
    "q=int(input())\n",
    "r=int(input())\n",
    "s=int(input())\n",
    "count=0\n",
    "for l in range(p,q+1):\n",
    "    for b in range(r,s+1):\n",
    "        ln=l\n",
    "        br=b\n",
    "        while(ln!=br and ln!=1 and br!=1):\n",
    "            m=min(ln,br)\n",
    "            if (ln>br):\n",
    "                ln=ln-m\n",
    "            else:\n",
    "                br=br-m\n",
    "            count+=1\n",
    "            \n",
    "        if(ln==br):\n",
    "            count+=1\n",
    "        elif(ln==1 or br==1):\n",
    "            count+=max(ln,br)\n",
    "\n",
    "print(\"the count\",count)"
   ]
  }
 ],
 "metadata": {
  "kernelspec": {
   "display_name": "Python 3",
   "language": "python",
   "name": "python3"
  },
  "language_info": {
   "codemirror_mode": {
    "name": "ipython",
    "version": 3
   },
   "file_extension": ".py",
   "mimetype": "text/x-python",
   "name": "python",
   "nbconvert_exporter": "python",
   "pygments_lexer": "ipython3",
   "version": "3.7.3"
  }
 },
 "nbformat": 4,
 "nbformat_minor": 2
}
