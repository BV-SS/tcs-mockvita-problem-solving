{
 "cells": [
  {
   "cell_type": "code",
   "execution_count": 2,
   "metadata": {},
   "outputs": [
    {
     "name": "stdout",
     "output_type": "stream",
     "text": [
      "4\n",
      "234 567 321 345 123 110 767 111\n",
      "['58', '12', '40', '76', '40', '11', '19', '18']\n",
      "even ___ ['58', '40', '40', '19']\n",
      "odd___ ['12', '76', '11', '18']\n",
      "de--- {'5': 1, '4': 2, '1': 1}\n",
      "do--- {'1': 3, '7': 1}\n",
      "3\n",
      "number of such pairs ------ 3\n"
     ]
    }
   ],
   "source": [
    "# codevita sample question practice \n",
    "#mockvita-2 2020 question -paper \n",
    "#question 2(digit pairs)\n",
    "N=input()\n",
    "num=input().split()\n",
    "bit_score=[]\n",
    "for i in num:\n",
    "    m=int(max(list(i)))*11\n",
    "    l=int(min(list(i)))*7\n",
    "    add=m+l\n",
    "    if(add>2):\n",
    "        add=str(add)[-2:]\n",
    "        \n",
    "    bit_score.append(add)\n",
    "    \n",
    "    \n",
    "even=[bit_score[x] for x in range(0,len(bit_score),2)]\n",
    "odd=[bit_score[x] for x in range(1,len(bit_score),2)]\n",
    "\n",
    "de={}\n",
    "do={}\n",
    "print(bit_score)\n",
    "print(\"even ___\",even)\n",
    "print(\"odd___\",odd)\n",
    "for i in even:\n",
    "    if str(i)[0] in de:\n",
    "        de[str(i)[0]]+=1\n",
    "    else:\n",
    "        de[str(i)[0]]=1\n",
    "print(\"de---\",de)\n",
    "\n",
    "for i in odd:\n",
    "    if str(i)[0] in do:\n",
    "        do[str(i)[0]]+=1\n",
    "    else:\n",
    "        do[str(i)[0]]=1\n",
    "print(\"do---\",do)\n",
    "pair=0\n",
    "for i in de:\n",
    "    if de[i]==2:\n",
    "        pair+=1\n",
    "    elif de[i]>2:\n",
    "        pair+=2\n",
    "   \n",
    "\n",
    "for i in do:\n",
    "    if do[i]==2:\n",
    "        pair+=1\n",
    "    elif do[i]>2:\n",
    "        pair+=2\n",
    "    else:\n",
    "        pass\n",
    "print(pair)\n",
    "\n",
    "print(\"number of such pairs ------\",pair)\n",
    "    \n",
    "\n"
   ]
  },
  {
   "cell_type": "code",
   "execution_count": null,
   "metadata": {},
   "outputs": [],
   "source": []
  }
 ],
 "metadata": {
  "kernelspec": {
   "display_name": "Python 3",
   "language": "python",
   "name": "python3"
  },
  "language_info": {
   "codemirror_mode": {
    "name": "ipython",
    "version": 3
   },
   "file_extension": ".py",
   "mimetype": "text/x-python",
   "name": "python",
   "nbconvert_exporter": "python",
   "pygments_lexer": "ipython3",
   "version": "3.7.3"
  }
 },
 "nbformat": 4,
 "nbformat_minor": 2
}
